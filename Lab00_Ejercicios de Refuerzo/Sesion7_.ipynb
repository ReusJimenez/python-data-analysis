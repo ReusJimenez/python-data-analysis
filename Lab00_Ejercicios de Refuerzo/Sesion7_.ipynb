{
 "cells": [
  {
   "cell_type": "markdown",
   "id": "4da7e047",
   "metadata": {},
   "source": [
    "# **Sesión 7 - ML**"
   ]
  },
  {
   "cell_type": "code",
   "execution_count": 1,
   "id": "77ac0989-29e6-4b46-b6bd-fe32e1f0dbd8",
   "metadata": {},
   "outputs": [],
   "source": [
    "#1. Importar las librerias\n"
   ]
  },
  {
   "cell_type": "code",
   "execution_count": 2,
   "id": "80c5c2c3-38d2-478e-a1bc-8c0817b3fd62",
   "metadata": {},
   "outputs": [],
   "source": [
    "#2. Leer los datos\n"
   ]
  },
  {
   "cell_type": "code",
   "execution_count": 3,
   "id": "453fe2a1-96ef-4594-96a4-f86d62ec3510",
   "metadata": {},
   "outputs": [],
   "source": [
    "#3. Exploración\n"
   ]
  }
 ],
 "metadata": {
  "kernelspec": {
   "display_name": "Python 3",
   "language": "python",
   "name": "python3"
  },
  "language_info": {
   "codemirror_mode": {
    "name": "ipython",
    "version": 3
   },
   "file_extension": ".py",
   "mimetype": "text/x-python",
   "name": "python",
   "nbconvert_exporter": "python",
   "pygments_lexer": "ipython3",
   "version": "3.13.0"
  }
 },
 "nbformat": 4,
 "nbformat_minor": 5
}
