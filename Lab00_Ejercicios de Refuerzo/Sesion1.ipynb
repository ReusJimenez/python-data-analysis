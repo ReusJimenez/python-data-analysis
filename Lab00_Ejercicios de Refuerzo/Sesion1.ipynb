{
 "cells": [
  {
   "cell_type": "code",
   "execution_count": 1,
   "id": "9a057520-2da8-4cfe-b983-784a72a53c48",
   "metadata": {},
   "outputs": [
    {
     "name": "stdout",
     "output_type": "stream",
     "text": [
      "Bienvenido Analista de datos\n"
     ]
    }
   ],
   "source": [
    "print('Bienvenido Analista de datos')"
   ]
  },
  {
   "cell_type": "code",
   "execution_count": 2,
   "id": "fed55df2-8e31-4b19-954d-e7da8c9653c9",
   "metadata": {},
   "outputs": [
    {
     "data": {
      "text/plain": [
       "4"
      ]
     },
     "execution_count": 2,
     "metadata": {},
     "output_type": "execute_result"
    }
   ],
   "source": [
    "2+2"
   ]
  },
  {
   "cell_type": "code",
   "execution_count": 3,
   "id": "f400d721-c1ef-48d1-a10b-e383389b84ff",
   "metadata": {},
   "outputs": [
    {
     "data": {
      "text/plain": [
       "8"
      ]
     },
     "execution_count": 3,
     "metadata": {},
     "output_type": "execute_result"
    }
   ],
   "source": [
    "numero = 2+6\n",
    "numero"
   ]
  },
  {
   "cell_type": "code",
   "execution_count": 4,
   "id": "c93fc1d5-f808-47d5-97b9-728a7a3cad4b",
   "metadata": {},
   "outputs": [
    {
     "data": {
      "text/plain": [
       "39"
      ]
     },
     "execution_count": 4,
     "metadata": {},
     "output_type": "execute_result"
    }
   ],
   "source": [
    "edad=39\n",
    "edad"
   ]
  },
  {
   "cell_type": "code",
   "execution_count": 5,
   "id": "8b989d7b-6829-4715-b0cf-881366489703",
   "metadata": {},
   "outputs": [
    {
     "data": {
      "text/plain": [
       "70.5"
      ]
     },
     "execution_count": 5,
     "metadata": {},
     "output_type": "execute_result"
    }
   ],
   "source": [
    "peso=70.50\n",
    "peso"
   ]
  },
  {
   "cell_type": "code",
   "execution_count": 6,
   "id": "8c3d5903-429a-4871-91c3-53df55a6ab76",
   "metadata": {},
   "outputs": [
    {
     "data": {
      "text/plain": [
       "71.5"
      ]
     },
     "execution_count": 6,
     "metadata": {},
     "output_type": "execute_result"
    }
   ],
   "source": [
    "peso=peso+1\n",
    "peso"
   ]
  },
  {
   "cell_type": "code",
   "execution_count": 7,
   "id": "96c2c859-7778-4a46-803d-fff1b92d90b7",
   "metadata": {},
   "outputs": [
    {
     "data": {
      "text/plain": [
       "True"
      ]
     },
     "execution_count": 7,
     "metadata": {},
     "output_type": "execute_result"
    }
   ],
   "source": [
    "estado=True\n",
    "estado"
   ]
  },
  {
   "cell_type": "code",
   "execution_count": 8,
   "id": "96797497-0fc5-4043-956e-670b0570344b",
   "metadata": {},
   "outputs": [
    {
     "data": {
      "text/plain": [
       "bool"
      ]
     },
     "execution_count": 8,
     "metadata": {},
     "output_type": "execute_result"
    }
   ],
   "source": [
    "type(estado)"
   ]
  },
  {
   "cell_type": "code",
   "execution_count": 9,
   "id": "461560d5-e63f-477e-8eb1-2841abb781c6",
   "metadata": {},
   "outputs": [
    {
     "data": {
      "text/plain": [
       "3"
      ]
     },
     "execution_count": 9,
     "metadata": {},
     "output_type": "execute_result"
    }
   ],
   "source": [
    "estado=3\n",
    "estado"
   ]
  },
  {
   "cell_type": "code",
   "execution_count": 10,
   "id": "36deeff2-028a-42c6-9beb-73892e789b45",
   "metadata": {},
   "outputs": [
    {
     "data": {
      "text/plain": [
       "int"
      ]
     },
     "execution_count": 10,
     "metadata": {},
     "output_type": "execute_result"
    }
   ],
   "source": [
    "type(estado)"
   ]
  },
  {
   "cell_type": "code",
   "execution_count": 24,
   "id": "5224f6c0-707f-4886-bca1-dac42135a30e",
   "metadata": {},
   "outputs": [
    {
     "data": {
      "text/plain": [
       "28"
      ]
     },
     "execution_count": 24,
     "metadata": {},
     "output_type": "execute_result"
    }
   ],
   "source": [
    "a=4\n",
    "b=6\n",
    "x=a*b\n",
    "x"
   ]
  },
  {
   "cell_type": "code",
   "execution_count": null,
   "id": "87efb11e-5cbb-41ad-a7fd-10c483a80b94",
   "metadata": {},
   "outputs": [],
   "source": []
  }
 ],
 "metadata": {
  "kernelspec": {
   "display_name": "Python 3 (ipykernel)",
   "language": "python",
   "name": "python3"
  },
  "language_info": {
   "codemirror_mode": {
    "name": "ipython",
    "version": 3
   },
   "file_extension": ".py",
   "mimetype": "text/x-python",
   "name": "python",
   "nbconvert_exporter": "python",
   "pygments_lexer": "ipython3",
   "version": "3.12.7"
  }
 },
 "nbformat": 4,
 "nbformat_minor": 5
}
