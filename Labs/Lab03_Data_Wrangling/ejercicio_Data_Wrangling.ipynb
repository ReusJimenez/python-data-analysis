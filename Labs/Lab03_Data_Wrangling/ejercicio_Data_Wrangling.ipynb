{
 "cells": [
  {
   "attachments": {},
   "cell_type": "markdown",
   "metadata": {},
   "source": [
    "# Ejercicio Pandas IV: Informe macroeconómico de Argentina\n",
    "\n",
    "La consultora \"Nuevos Horizontes\" quiere hacer un análisis del mercado argentino para entender como ha evolucionado en los últimos años. Van a analizar dos indicadores macroeconómicos principales: el **IPC: Índice de Precios al Consumidor** (para medir inflación) y el tipo de cambio (**cotización del dólar**).\n",
    "\n",
    "## IPC: Índice de Precios al Consumidor\n",
    "\n",
    "Para más información sobre el IPC pueden visitar la siguiente página del INDEC: https://www.indec.gob.ar/indec/web/Nivel4-Tema-3-5-31\n",
    "\n",
    "La base de IPC a analizar tiene como base diciembre de 2016, al cual le corresponde el índice 100. Los precios se encuentran con cuatro niveles de apertura: \n",
    "\n",
    "* General: Indice de Precios de toda la canasta de bienes y servicios considerada en el análisis\n",
    "\n",
    "* Estacional: Bienes y servicios con comportamiento estacional. Por ejemplo: frutas y verduras\n",
    "\n",
    "* Regulados: Bienes y servicios cuyos precios están sujetos a regulación o tienen alto componente impositivo. Por ejemplo: electricidad\n",
    "\n",
    "* Núcleo: : Resto de los grupos del IPC\n",
    "\n",
    "Su jefa quiere analizar el comportamiento de los cuatro niveles de apertura del indice de precios en los años que componen el dataset. Para eso le pide que obtenga el promedio, mediana e índice máximo anuales para cada nivel de apertura. Luego, de ser posible, graficar la evolución anual del índice medio a nivel general.\n",
    "\n",
    "**Pasos sugeridos:**\n",
    "\n",
    "    1) Leer los datos del IPC.\n",
    "\n",
    "    2) Modificar la tabla para que cumpla con la definición de tidy data: cada variable debe ser una columna (Apertura, Fecha e Indice).\n",
    "\n",
    "    3) Convertir la variable de fecha al formato date-time y extraer el año y el mes.\n",
    "\n",
    "    *Ayuda*: Vas a tener que utilizar el argumento format en la función to_datetime de pandas. En esta página vas a poder encontrar los códigos de formato o directivas necesarios para convertir las fechas: https://docs.python.org/es/3/library/datetime.html#strftime-and-strptime-behavior\n",
    "\n",
    "    4) Calcular el indice promedio, mediano y maximo por año para cada nivel de apertura.\n",
    "\n",
    "    5) Graficar."
   ]
  },
  {
   "cell_type": "code",
   "execution_count": 1,
   "metadata": {},
   "outputs": [],
   "source": [
    "import pandas as pd\n",
    "import numpy as np\n",
    "import matplotlib.pyplot as plt\n",
    "\n",
    "import warnings\n",
    "warnings.filterwarnings('ignore')\n",
    "\n",
    "%matplotlib inline"
   ]
  },
  {
   "attachments": {},
   "cell_type": "markdown",
   "metadata": {},
   "source": [
    "**1) Leer los datos del IPC.**"
   ]
  },
  {
   "cell_type": "code",
   "execution_count": null,
   "metadata": {},
   "outputs": [],
   "source": [
    "ipc_df = pd.read_csv('./Data/ipc_indec.csv')"
   ]
  },
  {
   "cell_type": "code",
   "execution_count": 3,
   "metadata": {},
   "outputs": [
    {
     "name": "stdout",
     "output_type": "stream",
     "text": [
      "        Apertura  Dec-16  Jan-17  Feb-17  Mar-17  Apr-17  May-17  Jun-17  \\\n",
      "0  Nivel general   100.0   101.6   103.7   106.1   109.0   110.5   111.8   \n",
      "1     Estacional   100.0   101.7   102.3   104.8   108.2   109.1   110.1   \n",
      "2         Núcleo   100.0   101.5   103.2   105.2   107.4   109.2   110.7   \n",
      "3      Regulados   100.0   101.8   105.9   110.0   114.5   115.7   116.7   \n",
      "\n",
      "   Jul-17  Aug-17  ...  Sep-19  Oct-19  Nov-19  Dec-19  Jan-20  Feb-20  \\\n",
      "0   113.8   115.4  ...   253.7   262.1   273.2   283.4   289.8   295.7   \n",
      "1   110.6   111.8  ...   217.0   223.2   239.6   244.7   253.6   260.0   \n",
      "2   112.6   114.2  ...   250.5   260.0   270.4   280.3   287.2   294.0   \n",
      "3   119.4   121.1  ...   284.7   290.5   301.6   315.5   319.1   321.3   \n",
      "\n",
      "   Mar-20  Apr-20  May-20  Jun-20  \n",
      "0   305.6   310.1   314.9   322.0  \n",
      "1   272.7   285.9   299.3   313.6  \n",
      "2   303.2   308.4   313.3   320.6  \n",
      "3   331.9   329.7   329.4   331.8  \n",
      "\n",
      "[4 rows x 44 columns]\n"
     ]
    }
   ],
   "source": [
    "print(ipc_df.head())"
   ]
  },
  {
   "attachments": {},
   "cell_type": "markdown",
   "metadata": {},
   "source": [
    "**2) Modificar la tabla** para que cumpla con la definición de tidy data: cada variable debe ser una columna (Apertura, Fecha e Indice)."
   ]
  },
  {
   "cell_type": "code",
   "execution_count": 4,
   "metadata": {},
   "outputs": [],
   "source": [
    "ipc_df_long = ipc_df.melt(id_vars=['Apertura'], var_name='Fecha', value_name='Indice')"
   ]
  },
  {
   "cell_type": "code",
   "execution_count": 5,
   "metadata": {},
   "outputs": [
    {
     "name": "stdout",
     "output_type": "stream",
     "text": [
      "        Apertura   Fecha  Indice\n",
      "0  Nivel general  Dec-16   100.0\n",
      "1     Estacional  Dec-16   100.0\n",
      "2         Núcleo  Dec-16   100.0\n",
      "3      Regulados  Dec-16   100.0\n",
      "4  Nivel general  Jan-17   101.6\n"
     ]
    }
   ],
   "source": [
    "print(ipc_df_long.head())"
   ]
  },
  {
   "attachments": {},
   "cell_type": "markdown",
   "metadata": {},
   "source": [
    "**3)** Convertir la **variable de fecha** al formato date-time y extraer el año y el mes\n"
   ]
  },
  {
   "cell_type": "code",
   "execution_count": 6,
   "metadata": {},
   "outputs": [],
   "source": [
    "ipc_df_long['Fecha'] = pd.to_datetime(ipc_df_long['Fecha'], format='%b-%y') "
   ]
  },
  {
   "cell_type": "code",
   "execution_count": 7,
   "metadata": {},
   "outputs": [],
   "source": [
    "ipc_df_long['Año'] = ipc_df_long['Fecha'].dt.year\n",
    "ipc_df_long['Mes'] = ipc_df_long['Fecha'].dt.month"
   ]
  },
  {
   "cell_type": "code",
   "execution_count": 8,
   "metadata": {},
   "outputs": [
    {
     "name": "stdout",
     "output_type": "stream",
     "text": [
      "        Apertura      Fecha  Indice   Año  Mes\n",
      "0  Nivel general 2016-12-01   100.0  2016   12\n",
      "1     Estacional 2016-12-01   100.0  2016   12\n",
      "2         Núcleo 2016-12-01   100.0  2016   12\n",
      "3      Regulados 2016-12-01   100.0  2016   12\n",
      "4  Nivel general 2017-01-01   101.6  2017    1\n"
     ]
    }
   ],
   "source": [
    "print(ipc_df_long.head())"
   ]
  },
  {
   "attachments": {},
   "cell_type": "markdown",
   "metadata": {},
   "source": [
    "**4)** Calcular el **indice promedio, mediano y maximo** por año para cada nivel de apertura."
   ]
  },
  {
   "cell_type": "code",
   "execution_count": 9,
   "metadata": {
    "scrolled": true
   },
   "outputs": [],
   "source": [
    "estadisticas = ipc_df_long.groupby(['Año', 'Apertura']).agg(\n",
    "    promedio=('Indice', 'mean'),\n",
    "    mediana=('Indice', 'median'),\n",
    "    maximo=('Indice', 'max')\n",
    ").reset_index()"
   ]
  },
  {
   "cell_type": "code",
   "execution_count": 10,
   "metadata": {},
   "outputs": [
    {
     "name": "stdout",
     "output_type": "stream",
     "text": [
      "    Año       Apertura    promedio  mediana  maximo\n",
      "0  2016     Estacional  100.000000   100.00   100.0\n",
      "1  2016  Nivel general  100.000000   100.00   100.0\n",
      "2  2016         Núcleo  100.000000   100.00   100.0\n",
      "3  2016      Regulados  100.000000   100.00   100.0\n",
      "4  2017     Estacional  111.366667   110.35   121.5\n"
     ]
    }
   ],
   "source": [
    "print(estadisticas.head())"
   ]
  },
  {
   "attachments": {},
   "cell_type": "markdown",
   "metadata": {},
   "source": [
    "**5) Graficar**"
   ]
  },
  {
   "cell_type": "code",
   "execution_count": 11,
   "metadata": {},
   "outputs": [
    {
     "data": {
      "image/png": "[encoded data removed]",
      "text/plain": [
       "<Figure size 1200x600 with 1 Axes>"
      ]
     },
     "metadata": {},
     "output_type": "display_data"
    }
   ],
   "source": [
    "ipc_general = estadisticas[estadisticas['Apertura'] == 'Nivel general']\n",
    "\n",
    "plt.figure(figsize=(12, 6))\n",
    "plt.plot(ipc_general['Año'], ipc_general['promedio'], marker='o', linestyle='-', color='b')\n",
    "plt.title('Evolución Anual del Índice Promedio General')\n",
    "plt.xlabel('Año')\n",
    "plt.ylabel('Índice Promedio')\n",
    "plt.grid(True)\n",
    "plt.xticks(ipc_general['Año'], rotation=45)\n",
    "plt.tight_layout()\n",
    "plt.show()"
   ]
  }
 ],
 "metadata": {
  "kernelspec": {
   "display_name": "Python 3",
   "language": "python",
   "name": "python3"
  },
  "language_info": {
   "codemirror_mode": {
    "name": "ipython",
    "version": 3
   },
   "file_extension": ".py",
   "mimetype": "text/x-python",
   "name": "python",
   "nbconvert_exporter": "python",
   "pygments_lexer": "ipython3",
   "version": "3.13.0"
  },
  "varInspector": {
   "cols": {
    "lenName": 16,
    "lenType": 16,
    "lenVar": 40
   },
   "kernels_config": {
    "python": {
     "delete_cmd_postfix": "",
     "delete_cmd_prefix": "del ",
     "library": "var_list.py",
     "varRefreshCmd": "print(var_dic_list())"
    },
    "r": {
     "delete_cmd_postfix": ") ",
     "delete_cmd_prefix": "rm(",
     "library": "var_list.r",
     "varRefreshCmd": "cat(var_dic_list()) "
    }
   },
   "types_to_exclude": [
    "module",
    "function",
    "builtin_function_or_method",
    "instance",
    "_Feature"
   ],
   "window_display": false
  }
 },
 "nbformat": 4,
 "nbformat_minor": 4
}
