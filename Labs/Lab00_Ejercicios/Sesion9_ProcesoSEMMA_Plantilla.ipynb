{
 "cells": [
  {
   "cell_type": "markdown",
   "id": "fb32319a",
   "metadata": {},
   "source": [
    "# Caso X: Proceso SEMMA"
   ]
  },
  {
   "cell_type": "markdown",
   "id": "af388a35",
   "metadata": {},
   "source": [
    "# Paso 1: Muestra (Sample)\n",
    "Este primer paso es importante para cargar los datos, obtener una muestra representativa y dividirlos en conjuntos de entrenamiento y validación."
   ]
  },
  {
   "cell_type": "markdown",
   "id": "7f798942",
   "metadata": {},
   "source": [
    "## 1.1 Importar librerías\n",
    "El primer paso consiste en importar las librerías necesarias"
   ]
  },
  {
   "cell_type": "code",
   "execution_count": null,
   "id": "aa645fb2",
   "metadata": {
    "vscode": {
     "languageId": "plaintext"
    }
   },
   "outputs": [],
   "source": []
  },
  {
   "cell_type": "markdown",
   "id": "6a83e877",
   "metadata": {},
   "source": [
    "## 1.2 Cargar el conjunto de datos\n",
    "Consiste en cargar el conjunto de datos del archivo CSV."
   ]
  },
  {
   "cell_type": "code",
   "execution_count": null,
   "id": "c2faddaa",
   "metadata": {
    "vscode": {
     "languageId": "plaintext"
    }
   },
   "outputs": [],
   "source": [
    "# Cargar el conjunto de datos\n",
    "data = pd.read_csv('tus_datos.csv')\n",
    "\n",
    "# Ver las primeras filas del conjunto de datos\n",
    "data.head()"
   ]
  },
  {
   "cell_type": "markdown",
   "id": "b7d2be9d",
   "metadata": {},
   "source": [
    "## 1.3 Verificar el tamaño del conjunto de datos\n",
    "Se procede a comprobar cuántas filas y columnas contiene el conjunto de datos."
   ]
  },
  {
   "cell_type": "code",
   "execution_count": null,
   "id": "31246a20",
   "metadata": {
    "vscode": {
     "languageId": "plaintext"
    }
   },
   "outputs": [],
   "source": [
    "# Verificar el tamaño\n",
    "rows, columns = data.shape\n",
    "print(f\"Filas: {rows}, Columnas: {columns}\")"
   ]
  },
  {
   "cell_type": "markdown",
   "id": "fea46b77",
   "metadata": {},
   "source": [
    "## 1.4 Partición de los datos\n",
    "A continuación, se divide el conjunto de datos en conjuntos de entrenamiento y validación"
   ]
  },
  {
   "cell_type": "code",
   "execution_count": null,
   "id": "7914063c",
   "metadata": {
    "vscode": {
     "languageId": "plaintext"
    }
   },
   "outputs": [],
   "source": [
    "train_data, validation_data = train_test_split(data, test_size=0.2, random_state=42)\n",
    "\n",
    "# Verificar el tamaño de los conjuntos de entrenamiento y validación\n",
    "train_size = train_data.shape[0]\n",
    "validation_size = validation_data.shape[0]\n",
    "\n",
    "print(f\"Conjunto de entrenamiento: {train_size}, Conjunto de validación: {validation_size}\")"
   ]
  },
  {
   "cell_type": "markdown",
   "id": "713043bf",
   "metadata": {},
   "source": [
    "# Paso 2: Explorar (Explore)\n",
    "En esta etapa, se exploran los datos y se realiza un análisis preliminar para comprender la distribución de las variables y detectar posibles anomalías."
   ]
  },
  {
   "cell_type": "markdown",
   "id": "f9f2436b",
   "metadata": {},
   "source": [
    "## 2.1 Estadísticas resumidas\n",
    "Se analizan las estadísticas descriptivas del conjunto de entrenamiento."
   ]
  },
  {
   "cell_type": "code",
   "execution_count": null,
   "id": "251c4d93",
   "metadata": {
    "vscode": {
     "languageId": "plaintext"
    }
   },
   "outputs": [],
   "source": [
    "# Estadísticas descriptivas del conjunto de entrenamiento\n",
    "summary_statistics = train_data.describe()\n",
    "print(summary_statistics)"
   ]
  },
  {
   "cell_type": "markdown",
   "id": "5fe447cb",
   "metadata": {},
   "source": [
    "## 2.2 Visualización\n",
    "Se visualizan las distribuciones de algunas de las características clave. Las variables pueden ajustarse según los datos disponibles."
   ]
  },
  {
   "cell_type": "code",
   "execution_count": null,
   "id": "f28b5485",
   "metadata": {
    "vscode": {
     "languageId": "plaintext"
    }
   },
   "outputs": [],
   "source": [
    "import matplotlib.pyplot as plt\n",
    "import seaborn as sns\n",
    "\n",
    "# Visualización de algunas características numéricas\n",
    "plt.figure(figsize=(15, 10))\n",
    "\n",
    "# Histograma de una característica clave (ajustar según sea necesario)\n",
    "plt.subplot(2, 2, 1)\n",
    "sns.histplot(train_data['caracteristica1'], bins=50, kde=True)\n",
    "plt.title('Distribución de Característica 1')\n",
    "\n",
    "plt.subplot(2, 2, 2)\n",
    "sns.histplot(train_data['caracteristica2'], bins=50, kde=True)\n",
    "plt.title('Distribución de Característica 2')\n",
    "\n",
    "plt.tight_layout()\n",
    "plt.show()"
   ]
  },
  {
   "cell_type": "markdown",
   "id": "275e6fdd",
   "metadata": {},
   "source": [
    "## 2.3 Anomalías en los datos\n",
    "Se verifica la presencia de valores nulos o anómalos en las columnas clave."
   ]
  },
  {
   "cell_type": "code",
   "execution_count": null,
   "id": "b0f28f25",
   "metadata": {
    "vscode": {
     "languageId": "plaintext"
    }
   },
   "outputs": [],
   "source": [
    "# Comprobando valores cero en algunas columnas\n",
    "zero_values = {\n",
    "    'columna1_zeros': (train_data['columna1'] == 0).sum(),\n",
    "    'columna2_zeros': (train_data['columna2'] == 0).sum()\n",
    "}\n",
    "print(zero_values)\n",
    "\n",
    "# Comprobando valores faltantes\n",
    "missing_values = train_data.isnull().sum()\n",
    "print(missing_values)"
   ]
  },
  {
   "cell_type": "markdown",
   "id": "4676f5c5",
   "metadata": {},
   "source": [
    "# Paso 3: Modificar (Modify)\n",
    "En esta fase, se procede a limpiar los datos y abordar las anomalías detectadas."
   ]
  },
  {
   "cell_type": "markdown",
   "id": "54b7fdf4",
   "metadata": {},
   "source": [
    "## 3.1 Manejo de valores nulos o cero\n",
    "Los valores nulos o cero se reemplazan, generalmente, por la mediana de la columna, aunque pueden aplicarse otras estrategias de imputación."
   ]
  },
  {
   "cell_type": "code",
   "execution_count": null,
   "id": "4666f7bd",
   "metadata": {
    "vscode": {
     "languageId": "plaintext"
    }
   },
   "outputs": [],
   "source": [
    "# Reemplazar valores cero con la mediana\n",
    "for column in ['columna1', 'columna2']:\n",
    "    median_value = train_data[column].median()\n",
    "    train_data[column].replace(0, median_value, inplace=True)\n",
    "\n",
    "# Verificación después del reemplazo\n",
    "zero_values_after = {\n",
    "    'columna1_zeros': (train_data['columna1'] == 0).sum(),\n",
    "    'columna2_zeros': (train_data['columna2'] == 0).sum()\n",
    "}\n",
    "print(zero_values_after)"
   ]
  },
  {
   "cell_type": "markdown",
   "id": "246d297e",
   "metadata": {},
   "source": [
    "## 3.2 Ingeniería de características\n",
    "En caso de que sea relevante, se pueden crear nuevas características basadas en las existentes."
   ]
  },
  {
   "cell_type": "code",
   "execution_count": null,
   "id": "744c1b93",
   "metadata": {
    "vscode": {
     "languageId": "plaintext"
    }
   },
   "outputs": [],
   "source": [
    "# Ejemplo de creación de una nueva característica\n",
    "train_data['nueva_caracteristica'] = train_data['columna1'] * train_data['columna2']"
   ]
  },
  {
   "cell_type": "markdown",
   "id": "ff4e69fd",
   "metadata": {},
   "source": [
    "# Paso 4: Modelar (Model)\n",
    "En este paso, se selecciona un modelo adecuado y se entrena utilizando los datos."
   ]
  },
  {
   "cell_type": "markdown",
   "id": "9a7dc78e",
   "metadata": {},
   "source": [
    "## 4.1 Selección del modelo\n",
    "Se elige un modelo de regresión o clasificación, dependiendo de la naturaleza del problema."
   ]
  },
  {
   "cell_type": "code",
   "execution_count": null,
   "id": "34301ee2",
   "metadata": {
    "vscode": {
     "languageId": "plaintext"
    }
   },
   "outputs": [],
   "source": [
    "from sklearn.ensemble import RandomForestRegressor\n",
    "\n",
    "# Entrenar un modelo de Random Forest\n",
    "model = RandomForestRegressor()\n",
    "X_train = train_data.drop('variable_objetivo', axis=1)\n",
    "y_train = train_data['variable_objetivo']\n",
    "model.fit(X_train, y_train)"
   ]
  },
  {
   "cell_type": "markdown",
   "id": "910e3749",
   "metadata": {},
   "source": [
    "## 4.2 Validación\n",
    "Se evalúa el desempeño del modelo en el conjunto de validación."
   ]
  },
  {
   "cell_type": "code",
   "execution_count": null,
   "id": "11a82359",
   "metadata": {
    "vscode": {
     "languageId": "plaintext"
    }
   },
   "outputs": [],
   "source": [
    "X_validation = validation_data.drop('variable_objetivo', axis=1)\n",
    "y_validation = validation_data['variable_objetivo']\n",
    "\n",
    "# Predicciones y evaluación\n",
    "y_pred = model.predict(X_validation)\n",
    "\n",
    "from sklearn.metrics import mean_squared_error\n",
    "mse = mean_squared_error(y_validation, y_pred)\n",
    "print(f\"Error cuadrático medio: {mse}\")"
   ]
  },
  {
   "cell_type": "markdown",
   "id": "30f86d03",
   "metadata": {},
   "source": [
    "# Paso 5: Evaluar (Assess)\n",
    "Finalmente, se evalúa el rendimiento del modelo utilizando diferentes métricas y se ajustan los parámetros si es necesario.\n",
    "\n",
    "Este procedimiento general ha sido adaptado al proceso SEMMA. Para un análisis más preciso, se recomienda proporcionar detalles adicionales sobre el conjunto de datos o realizar consultas específicas sobre el problema en cuestión."
   ]
  }
 ],
 "metadata": {
  "kernelspec": {
   "display_name": "Python 3 (ipykernel)",
   "language": "python",
   "name": "python3"
  },
  "language_info": {
   "codemirror_mode": {
    "name": "ipython",
    "version": 3
   },
   "file_extension": ".py",
   "mimetype": "text/x-python",
   "name": "python",
   "nbconvert_exporter": "python",
   "pygments_lexer": "ipython3",
   "version": "3.12.7"
  }
 },
 "nbformat": 4,
 "nbformat_minor": 5
}
