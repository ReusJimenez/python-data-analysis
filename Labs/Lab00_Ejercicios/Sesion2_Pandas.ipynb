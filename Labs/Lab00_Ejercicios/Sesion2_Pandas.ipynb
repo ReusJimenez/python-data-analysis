{
 "cells": [
  {
   "cell_type": "markdown",
   "id": "6cafbe5a",
   "metadata": {},
   "source": [
    "# **Sesión 2 - DataFrame y Series - Pandas**"
   ]
  },
  {
   "cell_type": "markdown",
   "id": "2e05b137-aa87-44eb-8060-11199977c636",
   "metadata": {},
   "source": [
    "## DataFrame"
   ]
  },
  {
   "cell_type": "code",
   "execution_count": 26,
   "id": "eab94333-67ea-45c5-b7c9-438bb40a3ae3",
   "metadata": {},
   "outputs": [],
   "source": [
    "# 1. Importar librerías\n",
    "import pandas as pd"
   ]
  },
  {
   "cell_type": "code",
   "execution_count": 27,
   "id": "2cafa57c-d8e2-46f4-ae73-39a903225cbe",
   "metadata": {},
   "outputs": [
    {
     "data": {
      "text/plain": [
       "{'nombre': ['Roberto', 'Vera', 'Yolfer'], 'edad': [23, 30, 40]}"
      ]
     },
     "execution_count": 27,
     "metadata": {},
     "output_type": "execute_result"
    }
   ],
   "source": [
    "# 3. Estructura de datos\n",
    "# a. Diccionario de datos\n",
    "datos = {\"nombre\": [\"Roberto\", \"Vera\", \"Yolfer\"], \"edad\": [23, 30, 40]}\n",
    "datos"
   ]
  },
  {
   "cell_type": "code",
   "execution_count": 28,
   "id": "073daf24-aecd-4ced-8635-90a7e13717ef",
   "metadata": {},
   "outputs": [
    {
     "data": {
      "text/html": [
       "<div>\n",
       "<style scoped>\n",
       "    .dataframe tbody tr th:only-of-type {\n",
       "        vertical-align: middle;\n",
       "    }\n",
       "\n",
       "    .dataframe tbody tr th {\n",
       "        vertical-align: top;\n",
       "    }\n",
       "\n",
       "    .dataframe thead th {\n",
       "        text-align: right;\n",
       "    }\n",
       "</style>\n",
       "<table border=\"1\" class=\"dataframe\">\n",
       "  <thead>\n",
       "    <tr style=\"text-align: right;\">\n",
       "      <th></th>\n",
       "      <th>nombre</th>\n",
       "      <th>edad</th>\n",
       "    </tr>\n",
       "  </thead>\n",
       "  <tbody>\n",
       "    <tr>\n",
       "      <th>0</th>\n",
       "      <td>Roberto</td>\n",
       "      <td>23</td>\n",
       "    </tr>\n",
       "    <tr>\n",
       "      <th>1</th>\n",
       "      <td>Vera</td>\n",
       "      <td>30</td>\n",
       "    </tr>\n",
       "    <tr>\n",
       "      <th>2</th>\n",
       "      <td>Yolfer</td>\n",
       "      <td>40</td>\n",
       "    </tr>\n",
       "  </tbody>\n",
       "</table>\n",
       "</div>"
      ],
      "text/plain": [
       "    nombre  edad\n",
       "0  Roberto    23\n",
       "1     Vera    30\n",
       "2   Yolfer    40"
      ]
     },
     "execution_count": 28,
     "metadata": {},
     "output_type": "execute_result"
    }
   ],
   "source": [
    "# Crear un DataFrame (tabla) a partir de un diccionario\n",
    "df = pd.DataFrame(datos)\n",
    "df"
   ]
  },
  {
   "cell_type": "code",
   "execution_count": 29,
   "id": "75fde6e1-c986-4cc2-a85f-79514d508974",
   "metadata": {},
   "outputs": [
    {
     "data": {
      "text/plain": [
       "0    Roberto\n",
       "1       Vera\n",
       "2     Yolfer\n",
       "Name: nombre, dtype: object"
      ]
     },
     "execution_count": 29,
     "metadata": {},
     "output_type": "execute_result"
    }
   ],
   "source": [
    "# Mostrar la primera columna\n",
    "df[\"nombre\"]"
   ]
  },
  {
   "cell_type": "code",
   "execution_count": 30,
   "id": "3876e5c5-77ec-4c44-a470-5243a060a39d",
   "metadata": {},
   "outputs": [
    {
     "data": {
      "text/plain": [
       "0    Roberto\n",
       "1       Vera\n",
       "2     Yolfer\n",
       "Name: nombre, dtype: object"
      ]
     },
     "execution_count": 30,
     "metadata": {},
     "output_type": "execute_result"
    }
   ],
   "source": [
    "# Otra forma de mostrar la primera serie\n",
    "df.nombre"
   ]
  },
  {
   "cell_type": "code",
   "execution_count": 31,
   "id": "b199b71a-fc57-40b2-bfb2-1d1d3b56a20c",
   "metadata": {},
   "outputs": [
    {
     "data": {
      "text/plain": [
       "pandas.core.series.Series"
      ]
     },
     "execution_count": 31,
     "metadata": {},
     "output_type": "execute_result"
    }
   ],
   "source": [
    "# Quiero conocer el tipo de elemento \"nombre\"\n",
    "type(df.nombre)"
   ]
  },
  {
   "cell_type": "markdown",
   "id": "b67dd7a5-d94c-478f-acca-1d2f37aa23e3",
   "metadata": {},
   "source": [
    "### Ejemplo: Importar datos de CSV"
   ]
  },
  {
   "cell_type": "markdown",
   "id": "b723be08-57ad-4f66-95f7-10038646b378",
   "metadata": {},
   "source": [
    "1. Leer los datos\n",
    "2. Explora los datos\n",
    "3. Limpiar los datos"
   ]
  },
  {
   "cell_type": "code",
   "execution_count": 32,
   "id": "f32b9627-2c3f-42f3-a997-1ffeed68f559",
   "metadata": {},
   "outputs": [],
   "source": [
    "# Importar la libreria\n",
    "import pandas as pd\n",
    "# from google.colan import drive #Para acceder al drive, si usara google colab\n",
    "# drive.mount (\"/content/drive\") #Para acceder al drive, si usara google colab"
   ]
  },
  {
   "cell_type": "code",
   "execution_count": null,
   "id": "552bd942-6ef3-4e6a-9655-174f0586286e",
   "metadata": {},
   "outputs": [],
   "source": [
    "# 1. Leer el archivo csv\n",
    "#df = pd.read_csv(\"/content/drive/MyDrive/Colab Notebooks/Precipitaciones.csv\") #Para acceder al csv, si usara google colab\n",
    "df = pd.read_csv(\"./Data/S2_Precipitaciones.csv\")"
   ]
  },
  {
   "cell_type": "code",
   "execution_count": 34,
   "id": "1d764b86-0ca2-4272-9818-85f09ca4ad6c",
   "metadata": {},
   "outputs": [
    {
     "data": {
      "text/plain": [
       "pandas.core.frame.DataFrame"
      ]
     },
     "execution_count": 34,
     "metadata": {},
     "output_type": "execute_result"
    }
   ],
   "source": [
    "type(df)"
   ]
  },
  {
   "cell_type": "code",
   "execution_count": 35,
   "id": "018b6f14-e069-474d-b817-0091ad835902",
   "metadata": {},
   "outputs": [
    {
     "data": {
      "text/html": [
       "<div>\n",
       "<style scoped>\n",
       "    .dataframe tbody tr th:only-of-type {\n",
       "        vertical-align: middle;\n",
       "    }\n",
       "\n",
       "    .dataframe tbody tr th {\n",
       "        vertical-align: top;\n",
       "    }\n",
       "\n",
       "    .dataframe thead th {\n",
       "        text-align: right;\n",
       "    }\n",
       "</style>\n",
       "<table border=\"1\" class=\"dataframe\">\n",
       "  <thead>\n",
       "    <tr style=\"text-align: right;\">\n",
       "      <th></th>\n",
       "      <th>region</th>\n",
       "      <th>enero</th>\n",
       "      <th>febrero</th>\n",
       "      <th>marzo</th>\n",
       "      <th>abril</th>\n",
       "      <th>mayo</th>\n",
       "      <th>junio</th>\n",
       "      <th>julio</th>\n",
       "      <th>agosto</th>\n",
       "      <th>septiembre</th>\n",
       "      <th>octubre</th>\n",
       "      <th>noviembre</th>\n",
       "      <th>diciembre</th>\n",
       "      <th>anual</th>\n",
       "    </tr>\n",
       "  </thead>\n",
       "  <tbody>\n",
       "    <tr>\n",
       "      <th>0</th>\n",
       "      <td>A CORUNA</td>\n",
       "      <td>240.5</td>\n",
       "      <td>293.4</td>\n",
       "      <td>31.0</td>\n",
       "      <td>80.6</td>\n",
       "      <td>149.5</td>\n",
       "      <td>108.9</td>\n",
       "      <td>44.6</td>\n",
       "      <td>21.8</td>\n",
       "      <td>96.5</td>\n",
       "      <td>154.5</td>\n",
       "      <td>100.8</td>\n",
       "      <td>214.8</td>\n",
       "      <td>1536.9</td>\n",
       "    </tr>\n",
       "    <tr>\n",
       "      <th>1</th>\n",
       "      <td>ALBACETE</td>\n",
       "      <td>68.1</td>\n",
       "      <td>28.0</td>\n",
       "      <td>26.2</td>\n",
       "      <td>65.3</td>\n",
       "      <td>25.4</td>\n",
       "      <td>50.0</td>\n",
       "      <td>2.0</td>\n",
       "      <td>34.5</td>\n",
       "      <td>48.0</td>\n",
       "      <td>44.8</td>\n",
       "      <td>33.1</td>\n",
       "      <td>14.1</td>\n",
       "      <td>439.5</td>\n",
       "    </tr>\n",
       "    <tr>\n",
       "      <th>2</th>\n",
       "      <td>ALICANTE</td>\n",
       "      <td>49.2</td>\n",
       "      <td>3.7</td>\n",
       "      <td>63.2</td>\n",
       "      <td>85.8</td>\n",
       "      <td>57.2</td>\n",
       "      <td>20.0</td>\n",
       "      <td>9.2</td>\n",
       "      <td>5.0</td>\n",
       "      <td>44.0</td>\n",
       "      <td>41.1</td>\n",
       "      <td>47.4</td>\n",
       "      <td>1.8</td>\n",
       "      <td>427.6</td>\n",
       "    </tr>\n",
       "    <tr>\n",
       "      <th>3</th>\n",
       "      <td>ALMERIA</td>\n",
       "      <td>56.3</td>\n",
       "      <td>5.2</td>\n",
       "      <td>35.8</td>\n",
       "      <td>43.1</td>\n",
       "      <td>38.8</td>\n",
       "      <td>16.9</td>\n",
       "      <td>10.2</td>\n",
       "      <td>1.9</td>\n",
       "      <td>17.4</td>\n",
       "      <td>27.3</td>\n",
       "      <td>32.6</td>\n",
       "      <td>3.2</td>\n",
       "      <td>288.7</td>\n",
       "    </tr>\n",
       "    <tr>\n",
       "      <th>4</th>\n",
       "      <td>ARABA</td>\n",
       "      <td>96.8</td>\n",
       "      <td>79.9</td>\n",
       "      <td>38.0</td>\n",
       "      <td>52.0</td>\n",
       "      <td>37.7</td>\n",
       "      <td>107.8</td>\n",
       "      <td>8.5</td>\n",
       "      <td>17.7</td>\n",
       "      <td>63.3</td>\n",
       "      <td>38.5</td>\n",
       "      <td>212.2</td>\n",
       "      <td>197.3</td>\n",
       "      <td>949.7</td>\n",
       "    </tr>\n",
       "    <tr>\n",
       "      <th>5</th>\n",
       "      <td>ASTURIAS</td>\n",
       "      <td>196.9</td>\n",
       "      <td>138.4</td>\n",
       "      <td>34.4</td>\n",
       "      <td>73.1</td>\n",
       "      <td>67.4</td>\n",
       "      <td>131.2</td>\n",
       "      <td>22.5</td>\n",
       "      <td>19.2</td>\n",
       "      <td>90.3</td>\n",
       "      <td>74.2</td>\n",
       "      <td>309.8</td>\n",
       "      <td>205.3</td>\n",
       "      <td>1362.7</td>\n",
       "    </tr>\n",
       "    <tr>\n",
       "      <th>6</th>\n",
       "      <td>AVILA</td>\n",
       "      <td>67.6</td>\n",
       "      <td>104.5</td>\n",
       "      <td>5.6</td>\n",
       "      <td>83.4</td>\n",
       "      <td>25.7</td>\n",
       "      <td>44.4</td>\n",
       "      <td>5.5</td>\n",
       "      <td>14.2</td>\n",
       "      <td>97.9</td>\n",
       "      <td>91.7</td>\n",
       "      <td>33.9</td>\n",
       "      <td>47.5</td>\n",
       "      <td>621.9</td>\n",
       "    </tr>\n",
       "    <tr>\n",
       "      <th>7</th>\n",
       "      <td>BADAJOZ</td>\n",
       "      <td>62.2</td>\n",
       "      <td>78.5</td>\n",
       "      <td>7.7</td>\n",
       "      <td>61.3</td>\n",
       "      <td>13.0</td>\n",
       "      <td>29.6</td>\n",
       "      <td>0.0</td>\n",
       "      <td>2.7</td>\n",
       "      <td>80.5</td>\n",
       "      <td>77.6</td>\n",
       "      <td>10.2</td>\n",
       "      <td>59.3</td>\n",
       "      <td>482.6</td>\n",
       "    </tr>\n",
       "    <tr>\n",
       "      <th>8</th>\n",
       "      <td>ILLES BALEARS</td>\n",
       "      <td>81.2</td>\n",
       "      <td>5.3</td>\n",
       "      <td>53.9</td>\n",
       "      <td>22.0</td>\n",
       "      <td>54.4</td>\n",
       "      <td>28.5</td>\n",
       "      <td>8.8</td>\n",
       "      <td>10.0</td>\n",
       "      <td>73.2</td>\n",
       "      <td>55.6</td>\n",
       "      <td>229.9</td>\n",
       "      <td>18.1</td>\n",
       "      <td>640.9</td>\n",
       "    </tr>\n",
       "    <tr>\n",
       "      <th>9</th>\n",
       "      <td>BARCELONA</td>\n",
       "      <td>26.8</td>\n",
       "      <td>28.4</td>\n",
       "      <td>16.4</td>\n",
       "      <td>72.2</td>\n",
       "      <td>26.0</td>\n",
       "      <td>42.3</td>\n",
       "      <td>18.7</td>\n",
       "      <td>25.7</td>\n",
       "      <td>76.0</td>\n",
       "      <td>40.6</td>\n",
       "      <td>72.8</td>\n",
       "      <td>2.2</td>\n",
       "      <td>448.1</td>\n",
       "    </tr>\n",
       "  </tbody>\n",
       "</table>\n",
       "</div>"
      ],
      "text/plain": [
       "          region  enero  febrero  marzo  abril   mayo  junio  julio  agosto  \\\n",
       "0       A CORUNA  240.5    293.4   31.0   80.6  149.5  108.9   44.6    21.8   \n",
       "1       ALBACETE   68.1     28.0   26.2   65.3   25.4   50.0    2.0    34.5   \n",
       "2       ALICANTE   49.2      3.7   63.2   85.8   57.2   20.0    9.2     5.0   \n",
       "3        ALMERIA   56.3      5.2   35.8   43.1   38.8   16.9   10.2     1.9   \n",
       "4          ARABA   96.8     79.9   38.0   52.0   37.7  107.8    8.5    17.7   \n",
       "5       ASTURIAS  196.9    138.4   34.4   73.1   67.4  131.2   22.5    19.2   \n",
       "6          AVILA   67.6    104.5    5.6   83.4   25.7   44.4    5.5    14.2   \n",
       "7        BADAJOZ   62.2     78.5    7.7   61.3   13.0   29.6    0.0     2.7   \n",
       "8  ILLES BALEARS   81.2      5.3   53.9   22.0   54.4   28.5    8.8    10.0   \n",
       "9      BARCELONA   26.8     28.4   16.4   72.2   26.0   42.3   18.7    25.7   \n",
       "\n",
       "   septiembre  octubre  noviembre  diciembre   anual  \n",
       "0        96.5    154.5      100.8      214.8  1536.9  \n",
       "1        48.0     44.8       33.1       14.1   439.5  \n",
       "2        44.0     41.1       47.4        1.8   427.6  \n",
       "3        17.4     27.3       32.6        3.2   288.7  \n",
       "4        63.3     38.5      212.2      197.3   949.7  \n",
       "5        90.3     74.2      309.8      205.3  1362.7  \n",
       "6        97.9     91.7       33.9       47.5   621.9  \n",
       "7        80.5     77.6       10.2       59.3   482.6  \n",
       "8        73.2     55.6      229.9       18.1   640.9  \n",
       "9        76.0     40.6       72.8        2.2   448.1  "
      ]
     },
     "execution_count": 35,
     "metadata": {},
     "output_type": "execute_result"
    }
   ],
   "source": [
    "# 2. Explorar los datos\n",
    "df.head(10)"
   ]
  },
  {
   "cell_type": "code",
   "execution_count": 36,
   "id": "2474e017-a2cc-4ac2-bdca-a16d7a1c7c58",
   "metadata": {},
   "outputs": [
    {
     "data": {
      "text/html": [
       "<div>\n",
       "<style scoped>\n",
       "    .dataframe tbody tr th:only-of-type {\n",
       "        vertical-align: middle;\n",
       "    }\n",
       "\n",
       "    .dataframe tbody tr th {\n",
       "        vertical-align: top;\n",
       "    }\n",
       "\n",
       "    .dataframe thead th {\n",
       "        text-align: right;\n",
       "    }\n",
       "</style>\n",
       "<table border=\"1\" class=\"dataframe\">\n",
       "  <thead>\n",
       "    <tr style=\"text-align: right;\">\n",
       "      <th></th>\n",
       "      <th>region</th>\n",
       "      <th>enero</th>\n",
       "      <th>febrero</th>\n",
       "      <th>marzo</th>\n",
       "      <th>abril</th>\n",
       "      <th>mayo</th>\n",
       "      <th>junio</th>\n",
       "      <th>julio</th>\n",
       "      <th>agosto</th>\n",
       "      <th>septiembre</th>\n",
       "      <th>octubre</th>\n",
       "      <th>noviembre</th>\n",
       "      <th>diciembre</th>\n",
       "      <th>anual</th>\n",
       "    </tr>\n",
       "  </thead>\n",
       "  <tbody>\n",
       "    <tr>\n",
       "      <th>42</th>\n",
       "      <td>SEGOVIA</td>\n",
       "      <td>63.3</td>\n",
       "      <td>80.5</td>\n",
       "      <td>3.3</td>\n",
       "      <td>88.5</td>\n",
       "      <td>39.8</td>\n",
       "      <td>55.6</td>\n",
       "      <td>6.3</td>\n",
       "      <td>14.4</td>\n",
       "      <td>47.1</td>\n",
       "      <td>62.5</td>\n",
       "      <td>42.9</td>\n",
       "      <td>44.8</td>\n",
       "      <td>549.0</td>\n",
       "    </tr>\n",
       "    <tr>\n",
       "      <th>43</th>\n",
       "      <td>SEVILLA</td>\n",
       "      <td>91.1</td>\n",
       "      <td>54.4</td>\n",
       "      <td>24.5</td>\n",
       "      <td>60.7</td>\n",
       "      <td>9.2</td>\n",
       "      <td>8.1</td>\n",
       "      <td>0.1</td>\n",
       "      <td>0.2</td>\n",
       "      <td>46.0</td>\n",
       "      <td>29.9</td>\n",
       "      <td>20.6</td>\n",
       "      <td>114.7</td>\n",
       "      <td>459.5</td>\n",
       "    </tr>\n",
       "    <tr>\n",
       "      <th>44</th>\n",
       "      <td>SORIA</td>\n",
       "      <td>75.1</td>\n",
       "      <td>63.5</td>\n",
       "      <td>12.1</td>\n",
       "      <td>67.7</td>\n",
       "      <td>70.7</td>\n",
       "      <td>85.4</td>\n",
       "      <td>10.5</td>\n",
       "      <td>19.4</td>\n",
       "      <td>56.5</td>\n",
       "      <td>47.0</td>\n",
       "      <td>62.9</td>\n",
       "      <td>37.7</td>\n",
       "      <td>608.5</td>\n",
       "    </tr>\n",
       "    <tr>\n",
       "      <th>45</th>\n",
       "      <td>TARRAGONA</td>\n",
       "      <td>52.7</td>\n",
       "      <td>28.4</td>\n",
       "      <td>9.7</td>\n",
       "      <td>59.6</td>\n",
       "      <td>19.0</td>\n",
       "      <td>63.8</td>\n",
       "      <td>22.4</td>\n",
       "      <td>43.5</td>\n",
       "      <td>88.7</td>\n",
       "      <td>25.4</td>\n",
       "      <td>115.0</td>\n",
       "      <td>5.1</td>\n",
       "      <td>533.3</td>\n",
       "    </tr>\n",
       "    <tr>\n",
       "      <th>46</th>\n",
       "      <td>TERUEL</td>\n",
       "      <td>54.1</td>\n",
       "      <td>28.8</td>\n",
       "      <td>11.9</td>\n",
       "      <td>74.6</td>\n",
       "      <td>48.5</td>\n",
       "      <td>72.6</td>\n",
       "      <td>26.8</td>\n",
       "      <td>48.1</td>\n",
       "      <td>55.0</td>\n",
       "      <td>30.9</td>\n",
       "      <td>60.0</td>\n",
       "      <td>13.2</td>\n",
       "      <td>524.5</td>\n",
       "    </tr>\n",
       "    <tr>\n",
       "      <th>47</th>\n",
       "      <td>TOLEDO</td>\n",
       "      <td>83.0</td>\n",
       "      <td>51.1</td>\n",
       "      <td>7.5</td>\n",
       "      <td>62.5</td>\n",
       "      <td>15.0</td>\n",
       "      <td>27.1</td>\n",
       "      <td>3.3</td>\n",
       "      <td>18.6</td>\n",
       "      <td>70.5</td>\n",
       "      <td>94.7</td>\n",
       "      <td>16.4</td>\n",
       "      <td>29.9</td>\n",
       "      <td>479.6</td>\n",
       "    </tr>\n",
       "    <tr>\n",
       "      <th>48</th>\n",
       "      <td>VALENCIA</td>\n",
       "      <td>61.9</td>\n",
       "      <td>16.8</td>\n",
       "      <td>49.3</td>\n",
       "      <td>86.4</td>\n",
       "      <td>33.8</td>\n",
       "      <td>34.2</td>\n",
       "      <td>17.1</td>\n",
       "      <td>30.9</td>\n",
       "      <td>99.3</td>\n",
       "      <td>46.1</td>\n",
       "      <td>46.6</td>\n",
       "      <td>5.5</td>\n",
       "      <td>527.9</td>\n",
       "    </tr>\n",
       "    <tr>\n",
       "      <th>49</th>\n",
       "      <td>VALLADOLID</td>\n",
       "      <td>29.2</td>\n",
       "      <td>69.1</td>\n",
       "      <td>4.1</td>\n",
       "      <td>65.1</td>\n",
       "      <td>24.3</td>\n",
       "      <td>58.3</td>\n",
       "      <td>1.9</td>\n",
       "      <td>3.8</td>\n",
       "      <td>54.1</td>\n",
       "      <td>40.2</td>\n",
       "      <td>41.7</td>\n",
       "      <td>35.9</td>\n",
       "      <td>427.7</td>\n",
       "    </tr>\n",
       "    <tr>\n",
       "      <th>50</th>\n",
       "      <td>ZAMORA</td>\n",
       "      <td>53.0</td>\n",
       "      <td>112.0</td>\n",
       "      <td>6.8</td>\n",
       "      <td>63.7</td>\n",
       "      <td>19.8</td>\n",
       "      <td>54.2</td>\n",
       "      <td>3.1</td>\n",
       "      <td>9.6</td>\n",
       "      <td>78.5</td>\n",
       "      <td>55.3</td>\n",
       "      <td>29.0</td>\n",
       "      <td>50.3</td>\n",
       "      <td>535.3</td>\n",
       "    </tr>\n",
       "    <tr>\n",
       "      <th>51</th>\n",
       "      <td>ZARAGOZA</td>\n",
       "      <td>52.0</td>\n",
       "      <td>30.0</td>\n",
       "      <td>3.6</td>\n",
       "      <td>52.7</td>\n",
       "      <td>38.3</td>\n",
       "      <td>57.5</td>\n",
       "      <td>13.5</td>\n",
       "      <td>13.2</td>\n",
       "      <td>61.5</td>\n",
       "      <td>27.4</td>\n",
       "      <td>76.6</td>\n",
       "      <td>23.4</td>\n",
       "      <td>449.7</td>\n",
       "    </tr>\n",
       "  </tbody>\n",
       "</table>\n",
       "</div>"
      ],
      "text/plain": [
       "        region  enero  febrero  marzo  abril  mayo  junio  julio  agosto  \\\n",
       "42     SEGOVIA   63.3     80.5    3.3   88.5  39.8   55.6    6.3    14.4   \n",
       "43     SEVILLA   91.1     54.4   24.5   60.7   9.2    8.1    0.1     0.2   \n",
       "44       SORIA   75.1     63.5   12.1   67.7  70.7   85.4   10.5    19.4   \n",
       "45   TARRAGONA   52.7     28.4    9.7   59.6  19.0   63.8   22.4    43.5   \n",
       "46      TERUEL   54.1     28.8   11.9   74.6  48.5   72.6   26.8    48.1   \n",
       "47      TOLEDO   83.0     51.1    7.5   62.5  15.0   27.1    3.3    18.6   \n",
       "48    VALENCIA   61.9     16.8   49.3   86.4  33.8   34.2   17.1    30.9   \n",
       "49  VALLADOLID   29.2     69.1    4.1   65.1  24.3   58.3    1.9     3.8   \n",
       "50      ZAMORA   53.0    112.0    6.8   63.7  19.8   54.2    3.1     9.6   \n",
       "51    ZARAGOZA   52.0     30.0    3.6   52.7  38.3   57.5   13.5    13.2   \n",
       "\n",
       "    septiembre  octubre  noviembre  diciembre  anual  \n",
       "42        47.1     62.5       42.9       44.8  549.0  \n",
       "43        46.0     29.9       20.6      114.7  459.5  \n",
       "44        56.5     47.0       62.9       37.7  608.5  \n",
       "45        88.7     25.4      115.0        5.1  533.3  \n",
       "46        55.0     30.9       60.0       13.2  524.5  \n",
       "47        70.5     94.7       16.4       29.9  479.6  \n",
       "48        99.3     46.1       46.6        5.5  527.9  \n",
       "49        54.1     40.2       41.7       35.9  427.7  \n",
       "50        78.5     55.3       29.0       50.3  535.3  \n",
       "51        61.5     27.4       76.6       23.4  449.7  "
      ]
     },
     "execution_count": 36,
     "metadata": {},
     "output_type": "execute_result"
    }
   ],
   "source": [
    "df.tail(10)"
   ]
  },
  {
   "cell_type": "code",
   "execution_count": 37,
   "id": "05792ae4-fa08-4435-aab9-4ba30390cd3a",
   "metadata": {
    "scrolled": true
   },
   "outputs": [
    {
     "name": "stdout",
     "output_type": "stream",
     "text": [
      "<class 'pandas.core.frame.DataFrame'>\n",
      "RangeIndex: 52 entries, 0 to 51\n",
      "Data columns (total 14 columns):\n",
      " #   Column      Non-Null Count  Dtype  \n",
      "---  ------      --------------  -----  \n",
      " 0   region      52 non-null     object \n",
      " 1   enero       52 non-null     float64\n",
      " 2   febrero     52 non-null     float64\n",
      " 3   marzo       52 non-null     float64\n",
      " 4   abril       52 non-null     float64\n",
      " 5   mayo        52 non-null     float64\n",
      " 6   junio       52 non-null     float64\n",
      " 7   julio       52 non-null     float64\n",
      " 8   agosto      52 non-null     float64\n",
      " 9   septiembre  52 non-null     float64\n",
      " 10  octubre     52 non-null     float64\n",
      " 11  noviembre   52 non-null     float64\n",
      " 12  diciembre   52 non-null     float64\n",
      " 13  anual       52 non-null     float64\n",
      "dtypes: float64(13), object(1)\n",
      "memory usage: 5.8+ KB\n"
     ]
    }
   ],
   "source": [
    "# Consultar informacion general\n",
    "df.info()"
   ]
  },
  {
   "cell_type": "markdown",
   "id": "8a152da2-38d1-41a1-bfb1-4b611a9d5bde",
   "metadata": {},
   "source": [
    "### Lo del object es como algo general al almacenar, porque realmente siendo especificos es un string"
   ]
  },
  {
   "cell_type": "code",
   "execution_count": 38,
   "id": "75bf4416-036a-4e2d-b5b9-3320165c1c9f",
   "metadata": {},
   "outputs": [
    {
     "data": {
      "text/plain": [
       "(52, 14)"
      ]
     },
     "execution_count": 38,
     "metadata": {},
     "output_type": "execute_result"
    }
   ],
   "source": [
    "# Conocer la cantiad de filas y columnas\n",
    "df.shape"
   ]
  },
  {
   "cell_type": "code",
   "execution_count": 39,
   "id": "327383ae-6f26-435b-bf27-6985bf639ca7",
   "metadata": {},
   "outputs": [
    {
     "data": {
      "text/plain": [
       "Index(['region', 'enero', 'febrero', 'marzo', 'abril', 'mayo', 'junio',\n",
       "       'julio', 'agosto', 'septiembre', 'octubre', 'noviembre', 'diciembre',\n",
       "       'anual'],\n",
       "      dtype='object')"
      ]
     },
     "execution_count": 39,
     "metadata": {},
     "output_type": "execute_result"
    }
   ],
   "source": [
    "# Conocer los encabezados\n",
    "df.columns"
   ]
  },
  {
   "cell_type": "code",
   "execution_count": 40,
   "id": "18de93df-183d-40a5-85b8-9132bd427bea",
   "metadata": {},
   "outputs": [
    {
     "data": {
      "text/html": [
       "<div>\n",
       "<style scoped>\n",
       "    .dataframe tbody tr th:only-of-type {\n",
       "        vertical-align: middle;\n",
       "    }\n",
       "\n",
       "    .dataframe tbody tr th {\n",
       "        vertical-align: top;\n",
       "    }\n",
       "\n",
       "    .dataframe thead th {\n",
       "        text-align: right;\n",
       "    }\n",
       "</style>\n",
       "<table border=\"1\" class=\"dataframe\">\n",
       "  <thead>\n",
       "    <tr style=\"text-align: right;\">\n",
       "      <th></th>\n",
       "      <th>enero</th>\n",
       "      <th>febrero</th>\n",
       "      <th>marzo</th>\n",
       "      <th>abril</th>\n",
       "      <th>mayo</th>\n",
       "      <th>junio</th>\n",
       "      <th>julio</th>\n",
       "      <th>agosto</th>\n",
       "      <th>septiembre</th>\n",
       "      <th>octubre</th>\n",
       "      <th>noviembre</th>\n",
       "      <th>diciembre</th>\n",
       "      <th>anual</th>\n",
       "    </tr>\n",
       "  </thead>\n",
       "  <tbody>\n",
       "    <tr>\n",
       "      <th>count</th>\n",
       "      <td>52.000000</td>\n",
       "      <td>52.000000</td>\n",
       "      <td>52.000000</td>\n",
       "      <td>52.000000</td>\n",
       "      <td>52.000000</td>\n",
       "      <td>52.000000</td>\n",
       "      <td>52.000000</td>\n",
       "      <td>52.000000</td>\n",
       "      <td>52.000000</td>\n",
       "      <td>52.000000</td>\n",
       "      <td>52.000000</td>\n",
       "      <td>52.000000</td>\n",
       "      <td>52.000000</td>\n",
       "    </tr>\n",
       "    <tr>\n",
       "      <th>mean</th>\n",
       "      <td>92.996154</td>\n",
       "      <td>78.632692</td>\n",
       "      <td>26.684615</td>\n",
       "      <td>64.500000</td>\n",
       "      <td>38.305769</td>\n",
       "      <td>54.182692</td>\n",
       "      <td>11.840385</td>\n",
       "      <td>17.178846</td>\n",
       "      <td>62.246154</td>\n",
       "      <td>54.373077</td>\n",
       "      <td>82.494231</td>\n",
       "      <td>76.192308</td>\n",
       "      <td>659.626923</td>\n",
       "    </tr>\n",
       "    <tr>\n",
       "      <th>std</th>\n",
       "      <td>57.127171</td>\n",
       "      <td>67.454280</td>\n",
       "      <td>31.473913</td>\n",
       "      <td>21.421942</td>\n",
       "      <td>29.079576</td>\n",
       "      <td>36.821635</td>\n",
       "      <td>13.256390</td>\n",
       "      <td>13.939496</td>\n",
       "      <td>28.581205</td>\n",
       "      <td>36.619785</td>\n",
       "      <td>91.689789</td>\n",
       "      <td>80.409042</td>\n",
       "      <td>352.905548</td>\n",
       "    </tr>\n",
       "    <tr>\n",
       "      <th>min</th>\n",
       "      <td>26.800000</td>\n",
       "      <td>2.300000</td>\n",
       "      <td>3.300000</td>\n",
       "      <td>3.500000</td>\n",
       "      <td>0.700000</td>\n",
       "      <td>1.100000</td>\n",
       "      <td>0.000000</td>\n",
       "      <td>0.000000</td>\n",
       "      <td>0.900000</td>\n",
       "      <td>1.000000</td>\n",
       "      <td>7.100000</td>\n",
       "      <td>1.800000</td>\n",
       "      <td>108.200000</td>\n",
       "    </tr>\n",
       "    <tr>\n",
       "      <th>25%</th>\n",
       "      <td>53.825000</td>\n",
       "      <td>32.825000</td>\n",
       "      <td>9.125000</td>\n",
       "      <td>53.950000</td>\n",
       "      <td>18.875000</td>\n",
       "      <td>26.325000</td>\n",
       "      <td>1.600000</td>\n",
       "      <td>4.850000</td>\n",
       "      <td>46.000000</td>\n",
       "      <td>29.825000</td>\n",
       "      <td>32.375000</td>\n",
       "      <td>22.075000</td>\n",
       "      <td>455.925000</td>\n",
       "    </tr>\n",
       "    <tr>\n",
       "      <th>50%</th>\n",
       "      <td>73.950000</td>\n",
       "      <td>62.600000</td>\n",
       "      <td>17.200000</td>\n",
       "      <td>62.700000</td>\n",
       "      <td>35.650000</td>\n",
       "      <td>50.400000</td>\n",
       "      <td>6.150000</td>\n",
       "      <td>16.500000</td>\n",
       "      <td>62.300000</td>\n",
       "      <td>46.550000</td>\n",
       "      <td>46.950000</td>\n",
       "      <td>47.950000</td>\n",
       "      <td>548.550000</td>\n",
       "    </tr>\n",
       "    <tr>\n",
       "      <th>75%</th>\n",
       "      <td>97.300000</td>\n",
       "      <td>102.550000</td>\n",
       "      <td>35.425000</td>\n",
       "      <td>77.625000</td>\n",
       "      <td>48.750000</td>\n",
       "      <td>78.025000</td>\n",
       "      <td>17.875000</td>\n",
       "      <td>26.550000</td>\n",
       "      <td>81.625000</td>\n",
       "      <td>74.500000</td>\n",
       "      <td>102.725000</td>\n",
       "      <td>107.000000</td>\n",
       "      <td>665.150000</td>\n",
       "    </tr>\n",
       "    <tr>\n",
       "      <th>max</th>\n",
       "      <td>261.900000</td>\n",
       "      <td>335.700000</td>\n",
       "      <td>209.800000</td>\n",
       "      <td>128.400000</td>\n",
       "      <td>149.500000</td>\n",
       "      <td>145.000000</td>\n",
       "      <td>46.800000</td>\n",
       "      <td>57.000000</td>\n",
       "      <td>122.800000</td>\n",
       "      <td>175.700000</td>\n",
       "      <td>384.600000</td>\n",
       "      <td>314.700000</td>\n",
       "      <td>1575.400000</td>\n",
       "    </tr>\n",
       "  </tbody>\n",
       "</table>\n",
       "</div>"
      ],
      "text/plain": [
       "            enero     febrero       marzo       abril        mayo       junio  \\\n",
       "count   52.000000   52.000000   52.000000   52.000000   52.000000   52.000000   \n",
       "mean    92.996154   78.632692   26.684615   64.500000   38.305769   54.182692   \n",
       "std     57.127171   67.454280   31.473913   21.421942   29.079576   36.821635   \n",
       "min     26.800000    2.300000    3.300000    3.500000    0.700000    1.100000   \n",
       "25%     53.825000   32.825000    9.125000   53.950000   18.875000   26.325000   \n",
       "50%     73.950000   62.600000   17.200000   62.700000   35.650000   50.400000   \n",
       "75%     97.300000  102.550000   35.425000   77.625000   48.750000   78.025000   \n",
       "max    261.900000  335.700000  209.800000  128.400000  149.500000  145.000000   \n",
       "\n",
       "           julio     agosto  septiembre     octubre   noviembre   diciembre  \\\n",
       "count  52.000000  52.000000   52.000000   52.000000   52.000000   52.000000   \n",
       "mean   11.840385  17.178846   62.246154   54.373077   82.494231   76.192308   \n",
       "std    13.256390  13.939496   28.581205   36.619785   91.689789   80.409042   \n",
       "min     0.000000   0.000000    0.900000    1.000000    7.100000    1.800000   \n",
       "25%     1.600000   4.850000   46.000000   29.825000   32.375000   22.075000   \n",
       "50%     6.150000  16.500000   62.300000   46.550000   46.950000   47.950000   \n",
       "75%    17.875000  26.550000   81.625000   74.500000  102.725000  107.000000   \n",
       "max    46.800000  57.000000  122.800000  175.700000  384.600000  314.700000   \n",
       "\n",
       "             anual  \n",
       "count    52.000000  \n",
       "mean    659.626923  \n",
       "std     352.905548  \n",
       "min     108.200000  \n",
       "25%     455.925000  \n",
       "50%     548.550000  \n",
       "75%     665.150000  \n",
       "max    1575.400000  "
      ]
     },
     "execution_count": 40,
     "metadata": {},
     "output_type": "execute_result"
    }
   ],
   "source": [
    "# Ver algunas estadisticas (es como el \"excel con estadistica, lo veremos mas adelante la parte estadistica\")\n",
    "df.describe()"
   ]
  },
  {
   "cell_type": "code",
   "execution_count": 41,
   "id": "90b78f39-94b9-496e-94df-9b7263682a8b",
   "metadata": {},
   "outputs": [
    {
     "data": {
      "text/plain": [
       "region        ALBACETE\n",
       "enero             68.1\n",
       "febrero           28.0\n",
       "marzo             26.2\n",
       "abril             65.3\n",
       "mayo              25.4\n",
       "junio             50.0\n",
       "julio              2.0\n",
       "agosto            34.5\n",
       "septiembre        48.0\n",
       "octubre           44.8\n",
       "noviembre         33.1\n",
       "diciembre         14.1\n",
       "anual            439.5\n",
       "Name: 1, dtype: object"
      ]
     },
     "execution_count": 41,
     "metadata": {},
     "output_type": "execute_result"
    }
   ],
   "source": [
    "df.iloc[1] #df.loc[1] # Aqui devuelve la fila 1"
   ]
  },
  {
   "cell_type": "markdown",
   "id": "3711fa0c-8af9-4514-adb1-527d9670a313",
   "metadata": {},
   "source": [
    "## Series\n",
    "Son estructuras con una dimension"
   ]
  },
  {
   "cell_type": "code",
   "execution_count": 42,
   "id": "1ebe73c6-cc69-40bf-b4b8-37e79c3f7d24",
   "metadata": {},
   "outputs": [
    {
     "data": {
      "text/plain": [
       "0    10\n",
       "1    20\n",
       "2    30\n",
       "3    40\n",
       "4    50\n",
       "dtype: int64"
      ]
     },
     "execution_count": 42,
     "metadata": {},
     "output_type": "execute_result"
    }
   ],
   "source": [
    "# 1. Crear una serie a partir de una Lista\n",
    "datos = [10,20,30,40,50] # esto es una lista, propio de Python\n",
    "# 2. Crear la serie\n",
    "serie = pd.Series(datos) # Lo que haces aqui es \"de pandas creo una serie\"\n",
    "        #Objeto.Metodo()\n",
    "serie #Llamando al objeto\n",
    "\n",
    "# Beneficios de usar una serie en vez de una lista, es como una \"columna pero con superpoderes\""
   ]
  },
  {
   "cell_type": "code",
   "execution_count": 43,
   "id": "ccfc9b41-a635-4c00-a264-0452964f9341",
   "metadata": {},
   "outputs": [
    {
     "data": {
      "text/plain": [
       "0    13\n",
       "1    23\n",
       "2    33\n",
       "3    43\n",
       "4    53\n",
       "dtype: int64"
      ]
     },
     "execution_count": 43,
     "metadata": {},
     "output_type": "execute_result"
    }
   ],
   "source": [
    "# Operaciones con la serie\n",
    "serie = serie + 3 # se ve simple, pero si lo hiciera solo con python, pues tendria que usar BUCLES\n",
    "serie"
   ]
  },
  {
   "cell_type": "code",
   "execution_count": 44,
   "id": "8b902b37-0a5e-4891-a5bf-96038a3fb73c",
   "metadata": {},
   "outputs": [
    {
     "data": {
      "text/html": [
       "<div>\n",
       "<style scoped>\n",
       "    .dataframe tbody tr th:only-of-type {\n",
       "        vertical-align: middle;\n",
       "    }\n",
       "\n",
       "    .dataframe tbody tr th {\n",
       "        vertical-align: top;\n",
       "    }\n",
       "\n",
       "    .dataframe thead th {\n",
       "        text-align: right;\n",
       "    }\n",
       "</style>\n",
       "<table border=\"1\" class=\"dataframe\">\n",
       "  <thead>\n",
       "    <tr style=\"text-align: right;\">\n",
       "      <th></th>\n",
       "      <th>id_producto</th>\n",
       "      <th>cantidad_vendida</th>\n",
       "      <th>precio</th>\n",
       "    </tr>\n",
       "  </thead>\n",
       "  <tbody>\n",
       "    <tr>\n",
       "      <th>0</th>\n",
       "      <td>1001</td>\n",
       "      <td>30.0</td>\n",
       "      <td>20.5</td>\n",
       "    </tr>\n",
       "    <tr>\n",
       "      <th>1</th>\n",
       "      <td>1002</td>\n",
       "      <td>NaN</td>\n",
       "      <td>15.0</td>\n",
       "    </tr>\n",
       "    <tr>\n",
       "      <th>2</th>\n",
       "      <td>1003</td>\n",
       "      <td>25.0</td>\n",
       "      <td>NaN</td>\n",
       "    </tr>\n",
       "    <tr>\n",
       "      <th>3</th>\n",
       "      <td>1003</td>\n",
       "      <td>25.0</td>\n",
       "      <td>22.5</td>\n",
       "    </tr>\n",
       "  </tbody>\n",
       "</table>\n",
       "</div>"
      ],
      "text/plain": [
       "   id_producto  cantidad_vendida  precio\n",
       "0         1001              30.0    20.5\n",
       "1         1002               NaN    15.0\n",
       "2         1003              25.0     NaN\n",
       "3         1003              25.0    22.5"
      ]
     },
     "execution_count": 44,
     "metadata": {},
     "output_type": "execute_result"
    }
   ],
   "source": [
    "#Limpiar datos\n",
    "data = {\n",
    "    \"id_producto\":[1001,1002,1003,1003],\n",
    "    \"cantidad_vendida\":[30,None,25,25],\n",
    "    \"precio\":[20.50,15.0,None,22.5]\n",
    "}\n",
    "#Crear df\n",
    "df = pd.DataFrame(data)\n",
    "\n",
    "#Mostrar\n",
    "df"
   ]
  },
  {
   "cell_type": "code",
   "execution_count": 45,
   "id": "01625f1f-4b4b-40c0-a726-b273f604ce12",
   "metadata": {},
   "outputs": [
    {
     "name": "stdout",
     "output_type": "stream",
     "text": [
      "<class 'pandas.core.frame.DataFrame'>\n",
      "RangeIndex: 4 entries, 0 to 3\n",
      "Data columns (total 3 columns):\n",
      " #   Column            Non-Null Count  Dtype  \n",
      "---  ------            --------------  -----  \n",
      " 0   id_producto       4 non-null      int64  \n",
      " 1   cantidad_vendida  3 non-null      float64\n",
      " 2   precio            3 non-null      float64\n",
      "dtypes: float64(2), int64(1)\n",
      "memory usage: 228.0 bytes\n"
     ]
    }
   ],
   "source": [
    "# Explorar los datos\n",
    "df.info()\n",
    "#objeto.Metodo()"
   ]
  },
  {
   "cell_type": "code",
   "execution_count": 46,
   "id": "703d3d64-c78b-4ada-b310-4b190199264c",
   "metadata": {},
   "outputs": [
    {
     "data": {
      "text/html": [
       "<div>\n",
       "<style scoped>\n",
       "    .dataframe tbody tr th:only-of-type {\n",
       "        vertical-align: middle;\n",
       "    }\n",
       "\n",
       "    .dataframe tbody tr th {\n",
       "        vertical-align: top;\n",
       "    }\n",
       "\n",
       "    .dataframe thead th {\n",
       "        text-align: right;\n",
       "    }\n",
       "</style>\n",
       "<table border=\"1\" class=\"dataframe\">\n",
       "  <thead>\n",
       "    <tr style=\"text-align: right;\">\n",
       "      <th></th>\n",
       "      <th>id_producto</th>\n",
       "      <th>cantidad_vendida</th>\n",
       "      <th>precio</th>\n",
       "    </tr>\n",
       "  </thead>\n",
       "  <tbody>\n",
       "    <tr>\n",
       "      <th>0</th>\n",
       "      <td>False</td>\n",
       "      <td>False</td>\n",
       "      <td>False</td>\n",
       "    </tr>\n",
       "    <tr>\n",
       "      <th>1</th>\n",
       "      <td>False</td>\n",
       "      <td>True</td>\n",
       "      <td>False</td>\n",
       "    </tr>\n",
       "    <tr>\n",
       "      <th>2</th>\n",
       "      <td>False</td>\n",
       "      <td>False</td>\n",
       "      <td>True</td>\n",
       "    </tr>\n",
       "    <tr>\n",
       "      <th>3</th>\n",
       "      <td>False</td>\n",
       "      <td>False</td>\n",
       "      <td>False</td>\n",
       "    </tr>\n",
       "  </tbody>\n",
       "</table>\n",
       "</div>"
      ],
      "text/plain": [
       "   id_producto  cantidad_vendida  precio\n",
       "0        False             False   False\n",
       "1        False              True   False\n",
       "2        False             False    True\n",
       "3        False             False   False"
      ]
     },
     "execution_count": 46,
     "metadata": {},
     "output_type": "execute_result"
    }
   ],
   "source": [
    "# Verificar valores nulos\n",
    "df.isnull()"
   ]
  },
  {
   "cell_type": "code",
   "execution_count": 47,
   "id": "3f85169a-41ea-424b-b919-7457b28c9590",
   "metadata": {},
   "outputs": [
    {
     "data": {
      "text/plain": [
       "id_producto         0\n",
       "cantidad_vendida    1\n",
       "precio              1\n",
       "dtype: int64"
      ]
     },
     "execution_count": 47,
     "metadata": {},
     "output_type": "execute_result"
    }
   ],
   "source": [
    "# En caso de tener mucha data\n",
    "df.isnull().sum()"
   ]
  },
  {
   "cell_type": "code",
   "execution_count": 48,
   "id": "2cdd56ef-c86a-40c4-a9b8-66073c77061c",
   "metadata": {},
   "outputs": [
    {
     "data": {
      "text/html": [
       "<div>\n",
       "<style scoped>\n",
       "    .dataframe tbody tr th:only-of-type {\n",
       "        vertical-align: middle;\n",
       "    }\n",
       "\n",
       "    .dataframe tbody tr th {\n",
       "        vertical-align: top;\n",
       "    }\n",
       "\n",
       "    .dataframe thead th {\n",
       "        text-align: right;\n",
       "    }\n",
       "</style>\n",
       "<table border=\"1\" class=\"dataframe\">\n",
       "  <thead>\n",
       "    <tr style=\"text-align: right;\">\n",
       "      <th></th>\n",
       "      <th>id_producto</th>\n",
       "      <th>cantidad_vendida</th>\n",
       "      <th>precio</th>\n",
       "    </tr>\n",
       "  </thead>\n",
       "  <tbody>\n",
       "    <tr>\n",
       "      <th>0</th>\n",
       "      <td>1001</td>\n",
       "      <td>30.0</td>\n",
       "      <td>20.5</td>\n",
       "    </tr>\n",
       "    <tr>\n",
       "      <th>3</th>\n",
       "      <td>1003</td>\n",
       "      <td>25.0</td>\n",
       "      <td>22.5</td>\n",
       "    </tr>\n",
       "  </tbody>\n",
       "</table>\n",
       "</div>"
      ],
      "text/plain": [
       "   id_producto  cantidad_vendida  precio\n",
       "0         1001              30.0    20.5\n",
       "3         1003              25.0    22.5"
      ]
     },
     "execution_count": 48,
     "metadata": {},
     "output_type": "execute_result"
    }
   ],
   "source": [
    "#Eliminar los registros (filas) con datos nulos (vacios)\n",
    "df_eliminados = df.dropna()\n",
    "df_eliminados"
   ]
  },
  {
   "cell_type": "markdown",
   "id": "4609f995-9f75-457e-ac81-4a6c99f1d0fd",
   "metadata": {},
   "source": [
    "Extra:"
   ]
  },
  {
   "cell_type": "code",
   "execution_count": 49,
   "id": "0d639d0f-58eb-4119-bc95-1054b09ffbce",
   "metadata": {},
   "outputs": [
    {
     "data": {
      "text/plain": [
       "a    10\n",
       "b    20\n",
       "c    30\n",
       "d    40\n",
       "e    50\n",
       "dtype: int64"
      ]
     },
     "execution_count": 49,
     "metadata": {},
     "output_type": "execute_result"
    }
   ],
   "source": [
    "#Crear serie con indices personalizados\n",
    "#a. Crear Lista\n",
    "indice = [\"a\",\"b\",\"c\",\"d\",\"e\"] # si agregas una \"f\", se raya todo porque no matchea la cantidad de datos con indice\n",
    "#b. Crear la serie\n",
    "serie3 = pd.Series(datos,indice)\n",
    "serie3"
   ]
  },
  {
   "cell_type": "code",
   "execution_count": 50,
   "id": "0d3bd463-5fe2-495e-b7ac-90fd055d511c",
   "metadata": {},
   "outputs": [
    {
     "data": {
      "text/plain": [
       "np.int64(30)"
      ]
     },
     "execution_count": 50,
     "metadata": {},
     "output_type": "execute_result"
    }
   ],
   "source": [
    "#Acceder a un dato\n",
    "serie3[\"c\"] #Aqui devuelve la fila \"c\""
   ]
  }
 ],
 "metadata": {
  "kernelspec": {
   "display_name": "Python 3",
   "language": "python",
   "name": "python3"
  },
  "language_info": {
   "codemirror_mode": {
    "name": "ipython",
    "version": 3
   },
   "file_extension": ".py",
   "mimetype": "text/x-python",
   "name": "python",
   "nbconvert_exporter": "python",
   "pygments_lexer": "ipython3",
   "version": "3.13.0"
  }
 },
 "nbformat": 4,
 "nbformat_minor": 5
}
